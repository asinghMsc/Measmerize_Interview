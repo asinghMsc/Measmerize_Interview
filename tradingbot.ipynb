{
  "nbformat": 4,
  "nbformat_minor": 0,
  "metadata": {
    "colab": {
      "provenance": [],
      "gpuType": "T4",
      "authorship_tag": "ABX9TyNjag4BBY7OMEoTZpELY3fe",
      "include_colab_link": true
    },
    "kernelspec": {
      "name": "python3",
      "display_name": "Python 3"
    },
    "language_info": {
      "name": "python"
    },
    "accelerator": "GPU"
  },
  "cells": [
    {
      "cell_type": "markdown",
      "metadata": {
        "id": "view-in-github",
        "colab_type": "text"
      },
      "source": [
        "<a href=\"https://colab.research.google.com/github/asinghMsc/Measmerize_Interview/blob/main/tradingbot.ipynb\" target=\"_parent\"><img src=\"https://colab.research.google.com/assets/colab-badge.svg\" alt=\"Open In Colab\"/></a>"
      ]
    },
    {
      "cell_type": "code",
      "execution_count": null,
      "metadata": {
        "id": "qCw8oln1UCja"
      },
      "outputs": [],
      "source": [
        "pip install lumibot timedelta alpaca-trade-api"
      ]
    },
    {
      "cell_type": "code",
      "source": [
        "pip install torch torchvision torchaudio transformers"
      ],
      "metadata": {
        "id": "zCL9gCIcVXEE"
      },
      "execution_count": null,
      "outputs": []
    },
    {
      "cell_type": "code",
      "source": [
        "from lumibot.brokers import Alpaca\n",
        "from lumibot.backtesting import YahooDataBacktesting\n",
        "from lumibot.strategies.strategy import Strategy\n",
        "from lumibot.traders import Trader\n",
        "from datetime import datetime\n",
        "from alpaca_trade_api import REST\n",
        "from timedelta import Timedelta\n",
        "from finbert_utils import estimate_sentiment\n",
        "import requests\n",
        "import json\n",
        "\n",
        "API_KEY = \"PKG66OP0BLK7613N7MNN\"\n",
        "API_SECRET = \"ZURKizrNWlzwLDlaAmOvTdhm7TGAf3v9arzrcD9v\"\n",
        "BASE_URL = \"https://paper-api.alpaca.markets\"\n",
        "\n",
        "ALPACA_CREDS = {\n",
        "    \"API_KEY\":API_KEY,\n",
        "    \"API_SECRET\": API_SECRET,\n",
        "    \"PAPER\": True\n",
        "}\n",
        "\n",
        "class MLTrader(Strategy):\n",
        "    def initialize(self, symbol:str=\"AAPL\", cash_at_risk:float=.5):\n",
        "        self.symbol = symbol\n",
        "        self.sleeptime = \"24H\"\n",
        "        self.last_trade = None\n",
        "        self.cash_at_risk = cash_at_risk\n",
        "        self.api = REST(base_url=BASE_URL, key_id=API_KEY, secret_key=API_SECRET)\n",
        "\n",
        "    def position_sizing(self):\n",
        "        cash = self.get_cash()\n",
        "        last_price = self.get_last_price(self.symbol)\n",
        "        quantity = round(cash * self.cash_at_risk / last_price,0)\n",
        "        return cash, last_price, quantity\n",
        "\n",
        "    def get_dates(self):\n",
        "        today = self.get_datetime()\n",
        "        three_days_prior = today - Timedelta(days=3)\n",
        "        return today.strftime('%Y-%m-%d'), three_days_prior.strftime('%Y-%m-%d')\n",
        "\n",
        "    def get_sentiment(self):\n",
        "        today, three_days_prior = self.get_dates()\n",
        "        symbols = self.symbol  # Assuming you're fetching news for a single symbol\n",
        "\n",
        "        # Adjusted URL with sorting and including content\n",
        "        url = f\"https://data.alpaca.markets/v1beta1/news?sort=desc&symbols={symbols}&include_content=true\"\n",
        "\n",
        "        # Adjusted headers to match the example\n",
        "        headers = {\n",
        "            \"accept\": \"application/json\",\n",
        "            \"APCA-API-KEY-ID\": API_KEY,\n",
        "            \"APCA-API-SECRET-KEY\": API_SECRET\n",
        "        }\n",
        "\n",
        "        response = requests.get(url, headers=headers)\n",
        "        if response.status_code == 200:\n",
        "            response_json = response.json()\n",
        "            if 'news' in response_json:\n",
        "                news_data = response_json['news']\n",
        "                headlines = [item['headline'] for item in news_data]\n",
        "                probability, sentiment = estimate_sentiment(headlines)\n",
        "                return probability, sentiment\n",
        "            else:\n",
        "                print(\"No 'news' key in response:\", response_json)\n",
        "                return 0, 'neutral'\n",
        "        else:\n",
        "            print(f\"Failed to fetch news data: {response.status_code}\", response.text)\n",
        "            return 0, 'neutral'\n",
        "\n",
        "\n",
        "\n",
        "    def on_trading_iteration(self):\n",
        "        cash, last_price, quantity = self.position_sizing()\n",
        "        probability, sentiment = self.get_sentiment()\n",
        "\n",
        "        if cash > last_price:\n",
        "            if sentiment == \"positive\" and probability > .999:\n",
        "                if self.last_trade == \"sell\":\n",
        "                    self.sell_all()\n",
        "                order = self.create_order(\n",
        "                    self.symbol,\n",
        "                    quantity,\n",
        "                    \"buy\",\n",
        "                    type=\"bracket\",\n",
        "                    take_profit_price=last_price*1.20,\n",
        "                    stop_loss_price=last_price*.95\n",
        "                )\n",
        "                self.submit_order(order)\n",
        "                self.last_trade = \"buy\"\n",
        "            elif sentiment == \"negative\" and probability > .999:\n",
        "                if self.last_trade == \"buy\":\n",
        "                    self.sell_all()\n",
        "                order = self.create_order(\n",
        "                    self.symbol,\n",
        "                    quantity,\n",
        "                    \"sell\",\n",
        "                    type=\"bracket\",\n",
        "                    take_profit_price=last_price*.8,\n",
        "                    stop_loss_price=last_price*1.05\n",
        "                )\n",
        "                self.submit_order(order)\n",
        "                self.last_trade = \"sell\"\n",
        "\n",
        "start_date = datetime(2020,1,1)\n",
        "end_date = datetime(2023,12,31)\n",
        "broker = Alpaca(ALPACA_CREDS)\n",
        "strategy = MLTrader(name='mlstrat', broker=broker,\n",
        "                    parameters={\"symbol\":\"AAPL\",\n",
        "                                \"cash_at_risk\":.5})\n",
        "strategy.backtest(\n",
        "    YahooDataBacktesting,\n",
        "    start_date,\n",
        "    end_date,\n",
        "    parameters={\"symbol\":\"AAPL\", \"cash_at_risk\":.5}\n",
        ")\n",
        "# trader = Trader()\n",
        "# trader.add_strategy(strategy)\n",
        "# trader.run_all()\n"
      ],
      "metadata": {
        "id": "ID71g_bYVffm"
      },
      "execution_count": null,
      "outputs": []
    }
  ]
}